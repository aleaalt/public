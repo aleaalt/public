{
 "cells": [
  {
   "cell_type": "markdown",
   "id": "cec43fca-a037-48bd-a054-15048f6d7f71",
   "metadata": {},
   "source": [
    "<h1>Data Science Tools and Ecosystem</h1>"
   ]
  },
  {
   "cell_type": "markdown",
   "id": "c2a5f385-548d-469e-a584-41baff1e3aed",
   "metadata": {},
   "source": [
    "In this notebook, Data Science Tools and Ecosystem are summarized."
   ]
  },
  {
   "cell_type": "markdown",
   "id": "2b2a1f56-739f-4354-a8e9-584cd827035b",
   "metadata": {},
   "source": [
    "<b>Objectives:</b>\n",
    "<ul>\n",
    "    <li>Core concepts of data science</li>\n",
    "    <li>Languages used in data science</li>\n",
    "    <li>Tools used in data science</li>\n",
    "    <li>How to become a data scientist</li>\n",
    "</ul>"
   ]
  },
  {
   "cell_type": "markdown",
   "id": "e5ee6e2d-fe09-413a-94a1-a1f260dc0cc9",
   "metadata": {},
   "source": [
    "Some of the popular languages that Data Scientists use are:</br>\n",
    "    <ol><li>Python</li>\n",
    "    <li>R</li>\n",
    "    <li>SQL</li></ol>"
   ]
  },
  {
   "cell_type": "markdown",
   "id": "2e98b4e3-0ef5-4629-ab88-6537473364b4",
   "metadata": {},
   "source": [
    "Some of the commonly used libraries used by Data Scientists include:\n",
    "    <ol><li>NumPy</li>\n",
    "    <li>Pandas</li>\n",
    "    <li>Plotlib</li></ol>"
   ]
  },
  {
   "cell_type": "markdown",
   "id": "6d0f046a-896a-43a7-bb8d-03b757e5f16a",
   "metadata": {},
   "source": [
    "<h3>Below are a few examples of evaluating arithmetic expressions in Python</h3>"
   ]
  },
  {
   "cell_type": "code",
   "execution_count": 7,
   "id": "76e6d295-16a0-47f4-9895-6d712b31cc98",
   "metadata": {},
   "outputs": [
    {
     "data": {
      "text/plain": [
       "17"
      ]
     },
     "execution_count": 7,
     "metadata": {},
     "output_type": "execute_result"
    }
   ],
   "source": [
    "# This a simple arithmetic expression to mutiply then add integers\n",
    "(3*4)+5"
   ]
  },
  {
   "cell_type": "code",
   "execution_count": 8,
   "id": "f60b72c5-15d7-4dda-9244-beeae989de1e",
   "metadata": {},
   "outputs": [
    {
     "data": {
      "text/plain": [
       "3.3333333333333335"
      ]
     },
     "execution_count": 8,
     "metadata": {},
     "output_type": "execute_result"
    }
   ],
   "source": [
    "# This will convert 200 minutes to hours by dividing by 60\n",
    "200/60"
   ]
  },
  {
   "cell_type": "markdown",
   "id": "50cfe087-8455-42ae-9680-bd0093e962e8",
   "metadata": {},
   "source": [
    "<h2>Author</h2>\n",
    "Alex Aaltonen"
   ]
  }
 ],
 "metadata": {
  "kernelspec": {
   "display_name": "Python 3 (ipykernel)",
   "language": "python",
   "name": "python3"
  },
  "language_info": {
   "codemirror_mode": {
    "name": "ipython",
    "version": 3
   },
   "file_extension": ".py",
   "mimetype": "text/x-python",
   "name": "python",
   "nbconvert_exporter": "python",
   "pygments_lexer": "ipython3",
   "version": "3.12.8"
  }
 },
 "nbformat": 4,
 "nbformat_minor": 5
}
